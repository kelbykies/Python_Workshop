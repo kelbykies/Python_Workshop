{
 "cells": [
  {
   "cell_type": "markdown",
   "id": "60b1ea60",
   "metadata": {},
   "source": [
    "# How to use Juypyter Notebook\n",
    "\n",
    "'+' sign: Adds a new line to your notebook. You can indicate what type of material this line is will be with the drop down menu. Options include: Code, Markdown, Raw NBConvert, Heading. For today's purposes we will just be using the Code option. \n",
    "\n",
    "scissors symbol: If you want to delete a line then you can click on this button. This will delete the current highlighted line. \n",
    "\n",
    "To run your code there is a run button at the top\n",
    "\n",
    "For Code Blocks:\n",
    "The lines where we can type code are indicated by 'In[ ]:' which stands for input. We are inputting the code in this line and when we click 'Run' the notebook will take your input code and generate an output. \n",
    "\n",
    "Example below: Our input code is 'print(\"Hello World\"). \n"
   ]
  },
  {
   "cell_type": "code",
   "execution_count": 7,
   "id": "f7016f8d",
   "metadata": {},
   "outputs": [
    {
     "name": "stdout",
     "output_type": "stream",
     "text": [
      "Hello World\n"
     ]
    }
   ],
   "source": [
    "print(\"Hello World\")"
   ]
  },
  {
   "cell_type": "markdown",
   "id": "d072fb2b",
   "metadata": {},
   "source": [
    "## Arithmetic:\n",
    "We can use python as a basic calculator. Let's run some basic calculations below\n",
    "The code lines indicated with a # are just comments. They are not actual commands being run and won't print out anything. \n",
    "\n",
    "Datatypes: \n",
    "- int\n",
    "- double\n",
    "- float\n"
   ]
  },
  {
   "cell_type": "code",
   "execution_count": 8,
   "id": "9f321342",
   "metadata": {},
   "outputs": [
    {
     "data": {
      "text/plain": [
       "14"
      ]
     },
     "execution_count": 8,
     "metadata": {},
     "output_type": "execute_result"
    }
   ],
   "source": [
    "# Add numbers with a '+' sign\n",
    "4 + 10"
   ]
  },
  {
   "cell_type": "code",
   "execution_count": 9,
   "id": "12039253",
   "metadata": {},
   "outputs": [
    {
     "data": {
      "text/plain": [
       "-20"
      ]
     },
     "execution_count": 9,
     "metadata": {},
     "output_type": "execute_result"
    }
   ],
   "source": [
    "# Subtract numbers with a '-' sign\n",
    "20 - 40"
   ]
  },
  {
   "cell_type": "code",
   "execution_count": 10,
   "id": "ff28361a",
   "metadata": {},
   "outputs": [
    {
     "data": {
      "text/plain": [
       "60"
      ]
     },
     "execution_count": 10,
     "metadata": {},
     "output_type": "execute_result"
    }
   ],
   "source": [
    "# Multiply numbers with a '*'\n",
    "2 * 3 * 10"
   ]
  },
  {
   "cell_type": "code",
   "execution_count": 11,
   "id": "b1cfa39d",
   "metadata": {},
   "outputs": [
    {
     "data": {
      "text/plain": [
       "6.25"
      ]
     },
     "execution_count": 11,
     "metadata": {},
     "output_type": "execute_result"
    }
   ],
   "source": [
    "# Divide numbers with '/'\n",
    "100/16"
   ]
  },
  {
   "cell_type": "markdown",
   "id": "2b5274fa",
   "metadata": {},
   "source": [
    "Order of operations is the same as normal math in Python. "
   ]
  },
  {
   "cell_type": "code",
   "execution_count": 12,
   "id": "657de27c",
   "metadata": {},
   "outputs": [
    {
     "data": {
      "text/plain": [
       "86"
      ]
     },
     "execution_count": 12,
     "metadata": {},
     "output_type": "execute_result"
    }
   ],
   "source": [
    "# First the sum within the parenthese will be exectued\n",
    "# This quantity is then multiplied\n",
    "# The resulting quantity is then subtracted from 100\n",
    "100 - (4+3) * 2"
   ]
  },
  {
   "cell_type": "markdown",
   "id": "038fff3a",
   "metadata": {},
   "source": [
    "## Variables\n",
    "A variable is a way we can store a value in memory to be used later on. \n",
    "\n"
   ]
  },
  {
   "cell_type": "code",
   "execution_count": 13,
   "id": "d832cb14",
   "metadata": {},
   "outputs": [
    {
     "name": "stdout",
     "output_type": "stream",
     "text": [
      "2\n"
     ]
    }
   ],
   "source": [
    "# Here I am storing the value 2 in memory with the name 'x'. \n",
    "x = 2\n",
    "# When we print x the variable x, we should get 2. \n",
    "print(x)"
   ]
  },
  {
   "cell_type": "code",
   "execution_count": 14,
   "id": "3e2e89c0",
   "metadata": {},
   "outputs": [
    {
     "name": "stdout",
     "output_type": "stream",
     "text": [
      "12\n"
     ]
    }
   ],
   "source": [
    "# We can later change the value of the variable or use it in a function as well. \n",
    "x = x + 10\n",
    "# Now what will x print out to be?\n",
    "print(x)"
   ]
  },
  {
   "cell_type": "markdown",
   "id": "2c0c6f8d",
   "metadata": {},
   "source": []
  },
  {
   "cell_type": "markdown",
   "id": "7d4fa266",
   "metadata": {},
   "source": [
    "## Strings\n",
    "A string is another datatype that we can use in Python. "
   ]
  },
  {
   "cell_type": "markdown",
   "id": "81350072",
   "metadata": {},
   "source": [
    "Exercises:\n",
    "1.\n",
    "2.\n",
    "3.\n",
    "4.\n",
    "5. "
   ]
  }
 ],
 "metadata": {
  "kernelspec": {
   "display_name": "Python 3",
   "language": "python",
   "name": "python3"
  },
  "language_info": {
   "codemirror_mode": {
    "name": "ipython",
    "version": 3
   },
   "file_extension": ".py",
   "mimetype": "text/x-python",
   "name": "python",
   "nbconvert_exporter": "python",
   "pygments_lexer": "ipython3",
   "version": "3.8.8"
  }
 },
 "nbformat": 4,
 "nbformat_minor": 5
}
